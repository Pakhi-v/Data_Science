{
 "cells": [
  {
   "cell_type": "code",
   "execution_count": 1,
   "id": "d7b6d62b",
   "metadata": {},
   "outputs": [
    {
     "data": {
      "text/plain": [
       "'__main__'"
      ]
     },
     "execution_count": 1,
     "metadata": {},
     "output_type": "execute_result"
    }
   ],
   "source": [
    "__name__ #it is a pre-defined variable"
   ]
  },
  {
   "cell_type": "code",
   "execution_count": 9,
   "id": "725e04c4",
   "metadata": {},
   "outputs": [],
   "source": [
    "def calculate_area(base,height):\n",
    "    return 1/2*(base*height)"
   ]
  },
  {
   "cell_type": "code",
   "execution_count": 10,
   "id": "ebf0d0d7",
   "metadata": {},
   "outputs": [
    {
     "name": "stdout",
     "output_type": "stream",
     "text": [
      "area: 100.0\n"
     ]
    }
   ],
   "source": [
    "if __name__ == \"__main__\":\n",
    "    a=calculate_area(10,20)\n",
    "    print(\"area:\",a)"
   ]
  },
  {
   "cell_type": "code",
   "execution_count": null,
   "id": "47445bc5",
   "metadata": {},
   "outputs": [],
   "source": []
  }
 ],
 "metadata": {
  "kernelspec": {
   "display_name": "Python 3 (ipykernel)",
   "language": "python",
   "name": "python3"
  },
  "language_info": {
   "codemirror_mode": {
    "name": "ipython",
    "version": 3
   },
   "file_extension": ".py",
   "mimetype": "text/x-python",
   "name": "python",
   "nbconvert_exporter": "python",
   "pygments_lexer": "ipython3",
   "version": "3.9.13"
  }
 },
 "nbformat": 4,
 "nbformat_minor": 5
}
